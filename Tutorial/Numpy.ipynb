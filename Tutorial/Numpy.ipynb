{
 "cells": [
  {
   "cell_type": "markdown",
   "id": "6d118fc5-d1e3-4ef6-8b7f-5966dfef1675",
   "metadata": {},
   "source": [
    "# NUMPY(NUMERICAL PYTHON):\n",
    "#### NumPy is a Python library.\n",
    "#### NumPy is used for working with arrays.\n",
    "#### NumPy is short for \"Numerical Python\".\n"
   ]
  },
  {
   "cell_type": "markdown",
   "id": "b748b220-813f-4036-a2c7-817af8f58522",
   "metadata": {},
   "source": [
    "## Import NumPy\n",
    "#### Once NumPy is installed, import it in your applications by adding the import keyword:\n",
    "##### import numpy as np"
   ]
  },
  {
   "cell_type": "markdown",
   "id": "c811435f-23a9-4596-aec1-11e71a58d392",
   "metadata": {},
   "source": [
    "## Example\n",
    "#### import numpy as np\n",
    "#### arr = np.array([1, 2, 3, 4, 5])\n",
    "#### print(arr)\n",
    "##### output:[1 2 3 4 5]"
   ]
  },
  {
   "cell_type": "markdown",
   "id": "22f3e534-1dad-42c6-9ec7-143d8b8e2e6f",
   "metadata": {},
   "source": [
    "## Creating Array\n",
    "#### Use a tuple to create a NumPy array:\n"
   ]
  },
  {
   "cell_type": "code",
   "execution_count": 1,
   "id": "8373ca68-d483-4874-9108-0057a8e8edf6",
   "metadata": {},
   "outputs": [
    {
     "name": "stdout",
     "output_type": "stream",
     "text": [
      "[1 2 3 4 5]\n",
      "mean: 3.0\n",
      "min: 1\n",
      "max: 5\n",
      "sum: 15\n"
     ]
    }
   ],
   "source": [
    "import numpy as np\n",
    "arr = np.array((1, 2, 3, 4, 5))\n",
    "print(arr)\n",
    "print(\"mean:\",np.mean(arr))\n",
    "print(\"min:\",np.min(arr))\n",
    "print(\"max:\",np.max(arr))\n",
    "print(\"sum:\",np.sum(arr))"
   ]
  },
  {
   "cell_type": "markdown",
   "id": "bb00c74c-d2c9-450f-9fd4-c70605b76642",
   "metadata": {},
   "source": [
    "#### Create a 0-D array with value 42"
   ]
  },
  {
   "cell_type": "code",
   "execution_count": 2,
   "id": "b4c899e0-66a6-4838-ad47-495c43bf66a3",
   "metadata": {},
   "outputs": [
    {
     "name": "stdout",
     "output_type": "stream",
     "text": [
      "42\n"
     ]
    }
   ],
   "source": [
    "import numpy as np\n",
    "arr = np.array(42)\n",
    "print(arr)"
   ]
  },
  {
   "cell_type": "markdown",
   "id": "38291d68-d1a5-4a61-90cf-c6609bd36cd1",
   "metadata": {},
   "source": [
    "#### Create a 1-D array containing the values 1,2,3,4,5:"
   ]
  },
  {
   "cell_type": "code",
   "execution_count": 3,
   "id": "89b7bbe3-6ef0-4f6e-8627-84d8a51d3f25",
   "metadata": {},
   "outputs": [
    {
     "name": "stdout",
     "output_type": "stream",
     "text": [
      "[1 2 3 4 5]\n"
     ]
    }
   ],
   "source": [
    "import numpy as np\n",
    "arr = np.array([1, 2, 3, 4, 5])\n",
    "print(arr)"
   ]
  },
  {
   "cell_type": "markdown",
   "id": "ba370590-28d6-4a5e-9fa7-f45a71c19799",
   "metadata": {},
   "source": [
    "#### Create a 2-D array containing two arrays with the values 1,2,3 and 4,5,6:"
   ]
  },
  {
   "cell_type": "code",
   "execution_count": 4,
   "id": "ecbd4756-6615-45d3-951b-c881ea92f8b7",
   "metadata": {},
   "outputs": [
    {
     "name": "stdout",
     "output_type": "stream",
     "text": [
      "[[1 2 3]\n",
      " [4 5 6]]\n"
     ]
    }
   ],
   "source": [
    "import numpy as np\n",
    "arr = np.array([[1, 2, 3], [4, 5, 6]])\n",
    "print(arr)"
   ]
  },
  {
   "cell_type": "markdown",
   "id": "e8b6c4d0-3f6b-43f1-b36a-cb36665d54ba",
   "metadata": {},
   "source": [
    "#### Create a 3-D array with two 2-D arrays, both containing two arrays with the values 1,2,3 and 4,5,6:\n",
    "\n"
   ]
  },
  {
   "cell_type": "code",
   "execution_count": 5,
   "id": "7ccc8ae5-53e9-4734-9a78-6b9a5a15266e",
   "metadata": {},
   "outputs": [
    {
     "name": "stdout",
     "output_type": "stream",
     "text": [
      "[[[1 2 3]\n",
      "  [4 5 6]]\n",
      "\n",
      " [[1 2 3]\n",
      "  [4 5 6]]]\n"
     ]
    }
   ],
   "source": [
    "import numpy as np\n",
    "arr = np.array([[[1, 2, 3], [4, 5, 6]], [[1, 2, 3], [4, 5, 6]]])\n",
    "print(arr)\n"
   ]
  },
  {
   "cell_type": "markdown",
   "id": "6471ac36-508f-4195-ad1f-7fcbafd509aa",
   "metadata": {},
   "source": [
    "#### Check how many dimensions the arrays have:"
   ]
  },
  {
   "cell_type": "code",
   "execution_count": 6,
   "id": "cba51160-d5dd-4be2-835b-7d29c65ebd53",
   "metadata": {},
   "outputs": [
    {
     "name": "stdout",
     "output_type": "stream",
     "text": [
      "0\n",
      "1\n",
      "2\n",
      "3\n"
     ]
    }
   ],
   "source": [
    "import numpy as np\n",
    "\n",
    "a = np.array(42)\n",
    "b = np.array([1, 2, 3, 4, 5])\n",
    "c = np.array([[1, 2, 3], [4, 5, 6]])\n",
    "d = np.array([[[1, 2, 3], [4, 5, 6]], [[1, 2, 3], [4, 5, 6]]])\n",
    "\n",
    "print(a.ndim)\n",
    "print(b.ndim)\n",
    "print(c.ndim)\n",
    "print(d.ndim)"
   ]
  },
  {
   "cell_type": "markdown",
   "id": "701167ad-7df0-436e-856c-70f4ce7c1188",
   "metadata": {},
   "source": [
    "#### Create an array with 5 dimensions and verify that it has 5 dimensions:\n",
    "\n"
   ]
  },
  {
   "cell_type": "code",
   "execution_count": 7,
   "id": "e4839e84-aa8b-4962-a28f-3b4a0314372c",
   "metadata": {},
   "outputs": [
    {
     "name": "stdout",
     "output_type": "stream",
     "text": [
      "[[[[[1 2 3 4]]]]]\n",
      "number of dimensions : 5\n"
     ]
    }
   ],
   "source": [
    "import numpy as np\n",
    "arr = np.array([1, 2, 3, 4], ndmin=5)\n",
    "print(arr)\n",
    "print('number of dimensions :', arr.ndim)\n"
   ]
  },
  {
   "cell_type": "markdown",
   "id": "87c43bfa-4bbd-4707-a19b-b7a57839c4b8",
   "metadata": {},
   "source": [
    "## Access Array Elements"
   ]
  },
  {
   "cell_type": "markdown",
   "id": "d4e0886d-25eb-4652-9818-5cc95684b650",
   "metadata": {},
   "source": [
    "##### Array indexing is the same as accessing an array element.\n",
    "##### You can access an array element by referring to its index number.\n",
    "##### The indexes in NumPy arrays start with 0, meaning that the first element has index 0, and the second has index 1 etc.\n",
    "\n"
   ]
  },
  {
   "cell_type": "markdown",
   "id": "87a5d259-4d69-4b53-8045-d08408f97d34",
   "metadata": {},
   "source": [
    "#### Get the first element from the following array:"
   ]
  },
  {
   "cell_type": "code",
   "execution_count": 8,
   "id": "7d408062-2d0c-4be0-afc8-04b71ad929ab",
   "metadata": {},
   "outputs": [
    {
     "name": "stdout",
     "output_type": "stream",
     "text": [
      "1\n"
     ]
    }
   ],
   "source": [
    "import numpy as np\n",
    "arr = np.array([1, 2, 3, 4])\n",
    "print(arr[0])"
   ]
  },
  {
   "cell_type": "markdown",
   "id": "751bba69-56fa-46ce-a5a5-1d62d100e17f",
   "metadata": {},
   "source": [
    "#### Get the second element from the following array.\n",
    "\n"
   ]
  },
  {
   "cell_type": "code",
   "execution_count": 9,
   "id": "72f597c8-0f6d-425d-9f7a-5675f27f7526",
   "metadata": {},
   "outputs": [
    {
     "name": "stdout",
     "output_type": "stream",
     "text": [
      "2\n"
     ]
    }
   ],
   "source": [
    "import numpy as np\n",
    "arr = np.array([1, 2, 3, 4])\n",
    "print(arr[1])\n"
   ]
  },
  {
   "cell_type": "markdown",
   "id": "ba8aa27a-7d2b-4ea2-9c94-409f5cd0abeb",
   "metadata": {},
   "source": [
    "#### Get third and fourth elements from the following array and add them."
   ]
  },
  {
   "cell_type": "code",
   "execution_count": 10,
   "id": "0b822a98-8b42-45de-b87d-4a648aedad69",
   "metadata": {},
   "outputs": [
    {
     "name": "stdout",
     "output_type": "stream",
     "text": [
      "7\n"
     ]
    }
   ],
   "source": [
    "import numpy as np\n",
    "arr = np.array([1, 2, 3, 4])\n",
    "print(arr[2] + arr[3])"
   ]
  },
  {
   "cell_type": "markdown",
   "id": "3f90c3ec-a4cc-48da-8296-891f890aabc8",
   "metadata": {},
   "source": [
    "## Access 2-D Arrays\n",
    "##### To access elements from 2-D arrays we can use comma separated integers representing the dimension and the index of the element.\n",
    "##### Think of 2-D arrays like a table with rows and columns, where the dimension represents the row and the index represents the column."
   ]
  },
  {
   "cell_type": "markdown",
   "id": "723fe52a-f22c-409e-9d1a-4026321da7b1",
   "metadata": {},
   "source": [
    "#### Access the element on the first row, second column:"
   ]
  },
  {
   "cell_type": "code",
   "execution_count": 11,
   "id": "ecb3c165-9203-46c3-a252-c6e571474451",
   "metadata": {},
   "outputs": [
    {
     "name": "stdout",
     "output_type": "stream",
     "text": [
      "2nd element on 1st row:  2\n"
     ]
    }
   ],
   "source": [
    "import numpy as np\n",
    "arr = np.array([[1,2,3,4,5], [6,7,8,9,10]])\n",
    "print('2nd element on 1st row: ', arr[0, 1])"
   ]
  },
  {
   "cell_type": "markdown",
   "id": "78b37ff8-f9e0-4116-bb83-c19b10421afa",
   "metadata": {},
   "source": [
    "#### Access the element on the 2nd row, 5th column:\n",
    "\n"
   ]
  },
  {
   "cell_type": "code",
   "execution_count": 12,
   "id": "44f2c10b-ab38-49e1-82a2-4128b9c79b0c",
   "metadata": {},
   "outputs": [
    {
     "name": "stdout",
     "output_type": "stream",
     "text": [
      "5th element on 2nd row:  10\n"
     ]
    }
   ],
   "source": [
    "import numpy as np\n",
    "arr = np.array([[1,2,3,4,5], [6,7,8,9,10]])\n",
    "print('5th element on 2nd row: ', arr[1, 4])\n"
   ]
  },
  {
   "cell_type": "markdown",
   "id": "944ff5c6-ddb8-451a-947c-603d524c075e",
   "metadata": {},
   "source": [
    "## Access 3-D Arrays\n",
    "##### To access elements from 3-D arrays we can use comma separated integers representing the dimensions and the index of the element."
   ]
  },
  {
   "cell_type": "markdown",
   "id": "8ffb6c4c-98e4-4aaf-b39c-bc26a88c18d3",
   "metadata": {},
   "source": [
    "#### Access the third element of the second array of the first array:\n",
    "\n"
   ]
  },
  {
   "cell_type": "code",
   "execution_count": 2,
   "id": "22c3de2a-4166-40db-9b95-c851e9f87bda",
   "metadata": {},
   "outputs": [
    {
     "name": "stdout",
     "output_type": "stream",
     "text": [
      "[[[ 1  2  3]\n",
      "  [ 4  5  6]]\n",
      "\n",
      " [[ 7  8  9]\n",
      "  [10 11 12]]]\n",
      "6\n"
     ]
    }
   ],
   "source": [
    "import numpy as np\n",
    "arr = np.array([[[1, 2, 3], [4, 5, 6]], [[7, 8, 9], [10, 11, 12]]])\n",
    "print(arr)\n",
    "print(arr[0, 1, 2])"
   ]
  },
  {
   "cell_type": "markdown",
   "id": "e779837f-dc2d-4d58-8e87-b3d280ebad08",
   "metadata": {},
   "source": [
    "#### Print the last element from the 2nd dim:"
   ]
  },
  {
   "cell_type": "code",
   "execution_count": 14,
   "id": "fe8b117c-2671-4574-a636-7bac27d01149",
   "metadata": {},
   "outputs": [
    {
     "name": "stdout",
     "output_type": "stream",
     "text": [
      "Last element from 2nd dim:  10\n"
     ]
    }
   ],
   "source": [
    "import numpy as np\n",
    "arr = np.array([[1,2,3,4,5], [6,7,8,9,10]])\n",
    "print('Last element from 2nd dim: ', arr[1, -1])"
   ]
  },
  {
   "cell_type": "markdown",
   "id": "554f146a-e946-4647-b3ed-f9baccae43b1",
   "metadata": {},
   "source": [
    "## NumPy Array Slicing\n"
   ]
  },
  {
   "cell_type": "markdown",
   "id": "035e5c9c-5834-479b-ab0c-289cc1089995",
   "metadata": {},
   "source": [
    "##### Slicing in python means taking elements from one given index to another given index.\n",
    "##### pass slice instead of index like this: [start:end].\n",
    "##### We can also define the step, like this: [start:end:step].\n",
    "##### If we don't pass start its considered 0\n",
    "##### we don't pass end its considered length of array in that dimension\n",
    "##### If we don't pass step its considered 1\n",
    "\n"
   ]
  },
  {
   "cell_type": "markdown",
   "id": "ab05fa0c-8cbf-49ae-bc3c-081a2a0ab82c",
   "metadata": {},
   "source": [
    "#### Slice elements from index 1 to index 5 from the following array:\n",
    "\n"
   ]
  },
  {
   "cell_type": "code",
   "execution_count": 15,
   "id": "ce213589-6f63-4d7e-973b-f2d00abd24c3",
   "metadata": {},
   "outputs": [
    {
     "name": "stdout",
     "output_type": "stream",
     "text": [
      "[2 3 4 5]\n"
     ]
    }
   ],
   "source": [
    "import numpy as np\n",
    "arr = np.array([1, 2, 3, 4, 5, 6, 7])\n",
    "print(arr[1:5])\n"
   ]
  },
  {
   "cell_type": "markdown",
   "id": "f60806e8-db65-4eff-85cf-9c4cb91264c7",
   "metadata": {},
   "source": [
    "#### Slice elements from index 4 to the end of the array:"
   ]
  },
  {
   "cell_type": "code",
   "execution_count": 16,
   "id": "6b339493-116e-4abe-a146-fafbeb9f65b6",
   "metadata": {},
   "outputs": [
    {
     "name": "stdout",
     "output_type": "stream",
     "text": [
      "[5 6 7]\n"
     ]
    }
   ],
   "source": [
    "import numpy as np\n",
    "arr = np.array([1, 2, 3, 4, 5, 6, 7])\n",
    "print(arr[4:])\n"
   ]
  },
  {
   "cell_type": "markdown",
   "id": "dfd28ea8-2932-414f-be9d-7517a870fbc8",
   "metadata": {},
   "source": [
    "#### Slice elements from the beginning to index 4 (not included):"
   ]
  },
  {
   "cell_type": "code",
   "execution_count": 17,
   "id": "15591ee6-3405-4349-b1a8-c32b7cc7e2de",
   "metadata": {},
   "outputs": [
    {
     "name": "stdout",
     "output_type": "stream",
     "text": [
      "[1 2 3 4]\n"
     ]
    }
   ],
   "source": [
    "import numpy as np\n",
    "arr = np.array([1, 2, 3, 4, 5, 6, 7])\n",
    "print(arr[:4])"
   ]
  },
  {
   "cell_type": "markdown",
   "id": "6831448d-ea02-45ba-9bf0-463a0c8546c9",
   "metadata": {},
   "source": [
    "## Negative Slicing\n",
    "##### Use the minus operator to refer to an index from the end:\n",
    "\n"
   ]
  },
  {
   "cell_type": "markdown",
   "id": "82b84ba2-026d-44f5-a3bb-a111f7abf4e2",
   "metadata": {},
   "source": [
    "#### Slice from the index 3 from the end to index 1 from the end:"
   ]
  },
  {
   "cell_type": "code",
   "execution_count": 18,
   "id": "0428cd9c-b8ca-49cd-a47f-a63129e58de8",
   "metadata": {},
   "outputs": [
    {
     "name": "stdout",
     "output_type": "stream",
     "text": [
      "[5 6]\n"
     ]
    }
   ],
   "source": [
    "import numpy as np\n",
    "arr = np.array([1, 2, 3, 4, 5, 6, 7])\n",
    "print(arr[-3:-1])"
   ]
  },
  {
   "cell_type": "markdown",
   "id": "9bd01082-47fb-4524-b1eb-cdb930718d65",
   "metadata": {},
   "source": [
    "### STEP\n",
    "##### Use the step value to determine the step of the slicing:\n",
    "#### Return every other element from index 1 to index 5:\n",
    "\n"
   ]
  },
  {
   "cell_type": "code",
   "execution_count": 19,
   "id": "1056935a-a235-4580-b07c-f12e84b1e099",
   "metadata": {},
   "outputs": [
    {
     "name": "stdout",
     "output_type": "stream",
     "text": [
      "[2 4]\n"
     ]
    }
   ],
   "source": [
    "import numpy as np\n",
    "arr = np.array([1, 2, 3, 4, 5, 6, 7])\n",
    "print(arr[1:5:2])"
   ]
  },
  {
   "cell_type": "markdown",
   "id": "bf0bc819-97d3-49cb-ae01-7bf1c0397867",
   "metadata": {},
   "source": [
    "#### Return every other element from the entire array:"
   ]
  },
  {
   "cell_type": "code",
   "execution_count": 20,
   "id": "d71def78-dcfb-4a78-b14a-72a4c789417e",
   "metadata": {},
   "outputs": [
    {
     "name": "stdout",
     "output_type": "stream",
     "text": [
      "[1 3 5 7]\n"
     ]
    }
   ],
   "source": [
    "import numpy as np\n",
    "arr = np.array([1, 2, 3, 4, 5, 6, 7])\n",
    "print(arr[::2])\n"
   ]
  },
  {
   "cell_type": "markdown",
   "id": "5987b47c-fd96-4ad0-8157-b2b5b616b5f0",
   "metadata": {},
   "source": [
    "## Slicing 2-D Arrays"
   ]
  },
  {
   "cell_type": "markdown",
   "id": "5d0b4559-fdf9-4201-93a4-ef7a66dad9c3",
   "metadata": {},
   "source": [
    "#### From the second element, slice elements from index 1 to index 4 (not included):"
   ]
  },
  {
   "cell_type": "code",
   "execution_count": 21,
   "id": "cf397f5a-569a-4c69-847c-f9b4bac7b650",
   "metadata": {},
   "outputs": [
    {
     "name": "stdout",
     "output_type": "stream",
     "text": [
      "[7 8 9]\n"
     ]
    }
   ],
   "source": [
    "import numpy as np\n",
    "arr = np.array([[1, 2, 3, 4, 5], [6, 7, 8, 9, 10]])\n",
    "print(arr[1, 1:4])\n"
   ]
  },
  {
   "cell_type": "markdown",
   "id": "c03cf561-86f5-4cc6-8143-a3569165dbcb",
   "metadata": {},
   "source": [
    "#### From both elements, return index 2:"
   ]
  },
  {
   "cell_type": "code",
   "execution_count": 22,
   "id": "e8db7f13-d4e6-4581-b373-06f9d6cbb21f",
   "metadata": {},
   "outputs": [
    {
     "name": "stdout",
     "output_type": "stream",
     "text": [
      "[3 8]\n"
     ]
    }
   ],
   "source": [
    "import numpy as np\n",
    "arr = np.array([[1, 2, 3, 4, 5], [6, 7, 8, 9, 10]])\n",
    "print(arr[0:2, 2])"
   ]
  },
  {
   "cell_type": "markdown",
   "id": "b9b4749d-6e53-4e17-837e-2c059e924f0d",
   "metadata": {},
   "source": [
    "#### From both elements, slice index 1 to index 4 (not included), this will return a 2-D array:"
   ]
  },
  {
   "cell_type": "code",
   "execution_count": 24,
   "id": "8ae331de-5edc-41ae-8e9e-bbc498252bb6",
   "metadata": {},
   "outputs": [
    {
     "name": "stdout",
     "output_type": "stream",
     "text": [
      "[[2 3 4]\n",
      " [7 8 9]]\n"
     ]
    }
   ],
   "source": [
    "import numpy as np\n",
    "arr = np.array([[1, 2, 3, 4, 5], [6, 7, 8, 9, 10]])\n",
    "print(arr[0:2, 1:4])"
   ]
  },
  {
   "cell_type": "markdown",
   "id": "b845facc-2c33-49c6-bebc-ba8dbe08c10f",
   "metadata": {},
   "source": [
    "## Shape of an Array\n",
    "##### The shape of an array is the number of elements in each dimension."
   ]
  },
  {
   "cell_type": "markdown",
   "id": "843f99ff-801a-412b-a6b1-f6dce78910df",
   "metadata": {},
   "source": [
    "#### Print the shape of a 2-D array:\n"
   ]
  },
  {
   "cell_type": "code",
   "execution_count": 25,
   "id": "84cf31b6-4b37-4bae-8534-9bdc1be95253",
   "metadata": {},
   "outputs": [
    {
     "name": "stdout",
     "output_type": "stream",
     "text": [
      "(2, 4)\n"
     ]
    }
   ],
   "source": [
    "import numpy as np\n",
    "arr = np.array([[1, 2, 3, 4], [5, 6, 7, 8]])\n",
    "print(arr.shape)"
   ]
  },
  {
   "cell_type": "markdown",
   "id": "1b2425f8-4dd3-446f-90d3-0da447c0e9a5",
   "metadata": {},
   "source": [
    "#### Create an array with 5 dimensions using ndmin using a vector with values 1,2,3,4 and verify that last dimension has value 4:"
   ]
  },
  {
   "cell_type": "code",
   "execution_count": 26,
   "id": "5323652f-1942-40c4-8a43-8052bcb42545",
   "metadata": {},
   "outputs": [
    {
     "name": "stdout",
     "output_type": "stream",
     "text": [
      "[[[[[1 2 3 4]]]]]\n",
      "shape of array : (1, 1, 1, 1, 4)\n"
     ]
    }
   ],
   "source": [
    "import numpy as np\n",
    "arr = np.array([1, 2, 3, 4], ndmin=5)\n",
    "print(arr)\n",
    "print('shape of array :', arr.shape)"
   ]
  },
  {
   "cell_type": "markdown",
   "id": "4677e431-c637-4cb5-bf16-7120dfcad30a",
   "metadata": {},
   "source": [
    "## NumPy Array Reshaping\n",
    "##### Reshaping means changing the shape of an array.\n",
    "##### The shape of an array is the number of elements in each dimension.\n",
    "##### By reshaping we can add or remove dimensions or change number of elements in each dimension.\n",
    "### Reshape From 1-D to 2-D\n",
    "#### Convert the following 1-D array with 12 elements into a 2-D array.\n",
    "#### The outermost dimension will have 4 arrays, each with 3 elements:"
   ]
  },
  {
   "cell_type": "code",
   "execution_count": 2,
   "id": "28c2a248-7f39-42a6-a3ea-2feab7e96207",
   "metadata": {},
   "outputs": [
    {
     "name": "stdout",
     "output_type": "stream",
     "text": [
      "[[ 1  2  3]\n",
      " [ 4  5  6]\n",
      " [ 7  8  9]\n",
      " [10 11 12]]\n"
     ]
    }
   ],
   "source": [
    "import numpy as np\n",
    "arr = np.array([1, 2, 3, 4, 5, 6, 7, 8, 9, 10, 11, 12])\n",
    "newarr = arr.reshape(4, 3)\n",
    "print(newarr)"
   ]
  },
  {
   "cell_type": "markdown",
   "id": "d9630120-5b81-4eec-a12c-3b970eeb50e7",
   "metadata": {},
   "source": [
    "### Reshape From 1-D to 3-D\n",
    "#### Convert the following 1-D array with 12 elements into a 3-D array.\n",
    "#### The outermost dimension will have 2 arrays that contains 3 arrays, each with 2 elements:\n",
    "\n"
   ]
  },
  {
   "cell_type": "code",
   "execution_count": 28,
   "id": "a554460a-0435-47cb-abfb-bab2c32672e4",
   "metadata": {},
   "outputs": [
    {
     "name": "stdout",
     "output_type": "stream",
     "text": [
      "[[[ 1  2]\n",
      "  [ 3  4]\n",
      "  [ 5  6]]\n",
      "\n",
      " [[ 7  8]\n",
      "  [ 9 10]\n",
      "  [11 12]]]\n"
     ]
    }
   ],
   "source": [
    "import numpy as np\n",
    "arr = np.array([1, 2, 3, 4, 5, 6, 7, 8, 9, 10, 11, 12])\n",
    "newarr = arr.reshape(2, 3, 2)  \n",
    "print(newarr)"
   ]
  },
  {
   "cell_type": "markdown",
   "id": "cf4c5815-2312-448f-ada9-c75204c77499",
   "metadata": {},
   "source": [
    "### Returns Copy or View?\n",
    "#### Check if the returned array is a copy or a view:"
   ]
  },
  {
   "cell_type": "code",
   "execution_count": 3,
   "id": "f609eca1-c50d-4673-91bd-74fc016d8b0b",
   "metadata": {},
   "outputs": [
    {
     "name": "stdout",
     "output_type": "stream",
     "text": [
      "[1 2 3 4 5 6 7 8]\n"
     ]
    }
   ],
   "source": [
    "import numpy as np\n",
    "arr = np.array([1, 2, 3, 4, 5, 6, 7, 8])\n",
    "print(arr.reshape(2, 4).base)\n"
   ]
  },
  {
   "cell_type": "markdown",
   "id": "34744aec-7a57-4b99-9807-276ea997a22e",
   "metadata": {},
   "source": [
    "### Unknown Dimension\n",
    "##### You are allowed to have one \"unknown\" dimension.\n",
    "##### Meaning that you do not have to specify an exact number for one of the dimensions in the reshape method.\n",
    "##### Pass -1 as the value, and NumPy will calculate this number for you.\n",
    "#### Convert 1D array with 8 elements to 3D array with 2x2 elements:"
   ]
  },
  {
   "cell_type": "code",
   "execution_count": 30,
   "id": "aecbe312-419a-4e0c-b4dc-57cbffd21e3d",
   "metadata": {},
   "outputs": [
    {
     "name": "stdout",
     "output_type": "stream",
     "text": [
      "[[[1 2]\n",
      "  [3 4]]\n",
      "\n",
      " [[5 6]\n",
      "  [7 8]]]\n"
     ]
    }
   ],
   "source": [
    "import numpy as np\n",
    "arr = np.array([1, 2, 3, 4, 5, 6, 7, 8])\n",
    "newarr = arr.reshape(2, 2, -1)\n",
    "print(newarr)"
   ]
  },
  {
   "cell_type": "markdown",
   "id": "bee28b2c-cb39-4a6d-ab3f-0d9806ae4fbd",
   "metadata": {},
   "source": [
    "### Flattening the arrays\n",
    "##### Flattening array means converting a multidimensional array into a 1D array.\n",
    "##### We can use reshape(-1) to do this.\n",
    "#### Convert the array into a 1D array:"
   ]
  },
  {
   "cell_type": "code",
   "execution_count": 31,
   "id": "0cb1f5ff-12fd-4135-ad24-889ebb81cc8b",
   "metadata": {},
   "outputs": [
    {
     "name": "stdout",
     "output_type": "stream",
     "text": [
      "[1 2 3 4 5 6]\n"
     ]
    }
   ],
   "source": [
    "import numpy as np\n",
    "arr = np.array([[1, 2, 3], [4, 5, 6]])\n",
    "newarr = arr.reshape(-1)\n",
    "print(newarr)"
   ]
  },
  {
   "cell_type": "markdown",
   "id": "5cd325f4-0caf-4c15-9a24-2aace547b732",
   "metadata": {},
   "source": [
    "## Random Numbers in NumPy\n",
    "##### Random number does NOT mean a different number every time. Random means something that can not be predicted logically."
   ]
  },
  {
   "cell_type": "markdown",
   "id": "86b7cd65-f659-435c-bec5-2fc0b440b0bb",
   "metadata": {},
   "source": [
    "#### Generate a random integer from 0 to 100:"
   ]
  },
  {
   "cell_type": "code",
   "execution_count": 4,
   "id": "8c3aa2a5-33bb-43ad-8c7b-0fff7031f589",
   "metadata": {},
   "outputs": [
    {
     "name": "stdout",
     "output_type": "stream",
     "text": [
      "21\n"
     ]
    }
   ],
   "source": [
    "from numpy import random\n",
    "x = random.randint(50)\n",
    "print(x)"
   ]
  },
  {
   "cell_type": "markdown",
   "id": "f2a68f1f-0cfa-4124-991a-46bc367ea66e",
   "metadata": {},
   "source": [
    "#### The random module's rand() method returns a random float between 0 and 1.\n",
    "#### Generate a random float from 0 to 1:"
   ]
  },
  {
   "cell_type": "code",
   "execution_count": 33,
   "id": "ad06433c-1898-4b4b-ba13-6d11dec22ac5",
   "metadata": {},
   "outputs": [
    {
     "name": "stdout",
     "output_type": "stream",
     "text": [
      "0.3162423909490206\n"
     ]
    }
   ],
   "source": [
    "from numpy import random\n",
    "x = random.rand()\n",
    "print(x)"
   ]
  },
  {
   "cell_type": "markdown",
   "id": "b4abdd82-ec3f-4863-830d-640093213c19",
   "metadata": {},
   "source": [
    "#### Generate a 1-D array containing 5 random integers from 0 to 100:"
   ]
  },
  {
   "cell_type": "code",
   "execution_count": 34,
   "id": "323fbc95-a850-467b-a313-60805866450e",
   "metadata": {},
   "outputs": [
    {
     "name": "stdout",
     "output_type": "stream",
     "text": [
      "[92  2 19 55 34]\n"
     ]
    }
   ],
   "source": [
    "from numpy import random\n",
    "x=random.randint(100, size=(5))\n",
    "print(x)"
   ]
  },
  {
   "cell_type": "markdown",
   "id": "902e65df-d474-4146-9919-b04850ae6476",
   "metadata": {},
   "source": [
    "#### Generate a 2-D array with 3 rows, each row containing 5 random integers from 0 to 100:"
   ]
  },
  {
   "cell_type": "code",
   "execution_count": 35,
   "id": "166f4d71-d758-4d41-8045-79cd32295d1a",
   "metadata": {},
   "outputs": [
    {
     "name": "stdout",
     "output_type": "stream",
     "text": [
      "[[51 55 56 14 17]\n",
      " [25 21 48 37 64]\n",
      " [99 83 62 82 95]]\n"
     ]
    }
   ],
   "source": [
    "from numpy import random\n",
    "x = random.randint(100, size=(3, 5))\n",
    "print(x)"
   ]
  },
  {
   "cell_type": "markdown",
   "id": "76d47c92-93c8-4611-8169-b398a5b6bd4d",
   "metadata": {},
   "source": [
    "#### Generate a 1-D array containing 5 random floats:"
   ]
  },
  {
   "cell_type": "code",
   "execution_count": 36,
   "id": "8ca3d45a-9289-4b60-bd12-16b1b308565f",
   "metadata": {},
   "outputs": [
    {
     "name": "stdout",
     "output_type": "stream",
     "text": [
      "[0.02601316 0.37158279 0.83069732 0.94775097 0.10780494]\n"
     ]
    }
   ],
   "source": [
    "from numpy import random\n",
    "x = random.rand(5)\n",
    "print(x)"
   ]
  },
  {
   "cell_type": "markdown",
   "id": "3ccfefb6-a559-4bca-9fa3-6f8c57f28705",
   "metadata": {},
   "source": [
    "#### Generate a 2-D array with 3 rows, each row containing 5 random numbers:"
   ]
  },
  {
   "cell_type": "code",
   "execution_count": 37,
   "id": "9ecb2366-9bc7-420e-83ea-d4c54b18eef0",
   "metadata": {},
   "outputs": [
    {
     "name": "stdout",
     "output_type": "stream",
     "text": [
      "[[0.29713679 0.43541485 0.55178876 0.33950165 0.46352389]\n",
      " [0.56917855 0.69137925 0.36381683 0.2807111  0.70753622]\n",
      " [0.30244558 0.55544781 0.27999378 0.17411722 0.51161029]]\n"
     ]
    }
   ],
   "source": [
    "from numpy import random\n",
    "x = random.rand(3, 5)\n",
    "print(x)"
   ]
  },
  {
   "cell_type": "markdown",
   "id": "86fa4b48-e931-4656-9ade-e7ac24c64018",
   "metadata": {},
   "source": [
    "### Generate Random Number From Array\n",
    "##### choice() method allows you to generate a random value based on an array of values.\n",
    "##### The choice() method takes an array as a parameter and randomly returns one of the values.\n",
    "#### Return one of the values in an array:"
   ]
  },
  {
   "cell_type": "code",
   "execution_count": 38,
   "id": "74d705ce-bd25-46ba-839b-643c729b954b",
   "metadata": {},
   "outputs": [
    {
     "name": "stdout",
     "output_type": "stream",
     "text": [
      "5\n"
     ]
    }
   ],
   "source": [
    "from numpy import random\n",
    "x = random.choice([3, 5, 7, 9])\n",
    "print(x)"
   ]
  },
  {
   "cell_type": "markdown",
   "id": "2c462542-34a0-4660-8287-2a5f33eda972",
   "metadata": {},
   "source": [
    "#### Generate a 2-D array that consists of the values in the array parameter (3, 5, 7, and 9):"
   ]
  },
  {
   "cell_type": "code",
   "execution_count": 39,
   "id": "2d4da5c3-9ed3-4876-9f83-7bb19fe4c9f6",
   "metadata": {},
   "outputs": [
    {
     "name": "stdout",
     "output_type": "stream",
     "text": [
      "[[3 7 3 9 5]\n",
      " [9 3 9 3 5]\n",
      " [7 7 7 9 9]]\n"
     ]
    }
   ],
   "source": [
    "from numpy import random\n",
    "x = random.choice([3, 5, 7, 9], size=(3, 5))\n",
    "print(x)"
   ]
  },
  {
   "cell_type": "code",
   "execution_count": 11,
   "id": "3458c1de-0249-41a2-9e2c-49970c363936",
   "metadata": {},
   "outputs": [
    {
     "name": "stdout",
     "output_type": "stream",
     "text": [
      "172\n",
      "34.4\n",
      "67\n",
      "8\n"
     ]
    }
   ],
   "source": [
    "import numpy as np\n",
    "a=np.array([45,67,8,9,43])\n",
    "print(a.sum())\n",
    "print(a.mean())\n",
    "print(a.max())\n",
    "print(a.min())"
   ]
  },
  {
   "cell_type": "code",
   "execution_count": null,
   "id": "f5b31728-90a3-4aab-ac28-a3f341e069dd",
   "metadata": {},
   "outputs": [],
   "source": []
  }
 ],
 "metadata": {
  "kernelspec": {
   "display_name": "Python 3 (ipykernel)",
   "language": "python",
   "name": "python3"
  },
  "language_info": {
   "codemirror_mode": {
    "name": "ipython",
    "version": 3
   },
   "file_extension": ".py",
   "mimetype": "text/x-python",
   "name": "python",
   "nbconvert_exporter": "python",
   "pygments_lexer": "ipython3",
   "version": "3.12.7"
  }
 },
 "nbformat": 4,
 "nbformat_minor": 5
}
